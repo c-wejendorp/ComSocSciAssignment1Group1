{
 "cells": [
  {
   "attachments": {},
   "cell_type": "markdown",
   "metadata": {},
   "source": [
    "# Assignment 1 group 1\n",
    "Github repo is found at: https://github.com/c-wejendorp/ComSocSciAssignment1Group1\n",
    "<br>\n",
    "Contributions: s204090 0% , s204145 0% and s216135 0%\n"
   ]
  },
  {
   "cell_type": "code",
   "execution_count": null,
   "metadata": {},
   "outputs": [],
   "source": [
    "#import the necessary libraries used in this notebook\n",
    "from bs4 import BeautifulSoup \n",
    "import requests\n",
    "import re"
   ]
  },
  {
   "attachments": {},
   "cell_type": "markdown",
   "metadata": {},
   "source": [
    "#### Part 1: Using web-scraping to gather data\n",
    "We are interested in identifying the researchers that have joined the most important scientific conference in Computational Social Science in 2019. To do this we webscrape the programmes from 2019. They can be found at the following links:<br>\n",
    "- https://2019.ic2s2.org/oral-presentations/\n",
    "- https://2019.ic2s2.org/posters/\n",
    "\n",
    "We scraped the websites using the code below:\n",
    "\n"
   ]
  },
  {
   "cell_type": "code",
   "execution_count": null,
   "metadata": {},
   "outputs": [],
   "source": [
    "#sets to store the names\n",
    "oralPresenters = set()\n",
    "poserPresenters = set()\n",
    "\n",
    "#first link\n",
    "link1=\"https://2019.ic2s2.org/oral-presentations/\"\n",
    "#get the HTML content\n",
    "r = requests.get(link1)\n",
    "#use BeautifulSoup to parse the content. \n",
    "soup = BeautifulSoup(r.content)\n",
    "#locate the HTML tag containing the author names by inspecting the website using at browser.\n",
    "# We see that the names are located in the tag <p> \n",
    "paragraphs=soup.find_all(\"p\")\n",
    "#relevant paragraphs choosen by quick manual inspection\n",
    "paragraphs=paragraphs[3:-7]\n",
    "#we note that each rooom has a \"chairperson\" which WILL NOT be included. \n",
    "\n",
    "for paragraph in paragraphs:\n",
    "    #print(paragraph)\n",
    "    text=str(paragraph)\n",
    "    #spilt by the \"<br>\"\n",
    "    text=re.split(\"<br>|<br/>\",text)\n",
    "    #print(text)\n",
    "    #print(re.split(r'\\s*\\–\\s*|\\.s*',text[0]))\n",
    "    #locate the names by splitting by \"-\" and choosing idx 2    \n",
    "    for line in text[2:]:        \n",
    "        lineList=re.split(r'\\s*\\–\\s*|\\.s*',line)        \n",
    "        #get each individual name \n",
    "        # we check if lineList has a lenght over 1 as sometimes there is no \".\" btw the authornames and the topic.\n",
    "        # Instead there is a \"–\". Thus we do not include the authors where this is the case. \n",
    "        if len(lineList)>1:\n",
    "            \n",
    "            names=re.split(r',\\s*',lineList[2])    \n",
    "            for name in names:\n",
    "                oralPresenters.add(name)\n",
    "\n",
    "        \n",
    "\n",
    "    \n",
    "\n",
    "len(oralPresenters)\n",
    "\n",
    "\n",
    "\n",
    "\n",
    "\n"
   ]
  },
  {
   "cell_type": "code",
   "execution_count": null,
   "metadata": {},
   "outputs": [],
   "source": [
    "\n",
    "oralPresenters\n"
   ]
  },
  {
   "cell_type": "code",
   "execution_count": null,
   "metadata": {},
   "outputs": [],
   "source": [
    "paragraphs[-1]\n"
   ]
  },
  {
   "cell_type": "code",
   "execution_count": null,
   "metadata": {},
   "outputs": [],
   "source": [
    "link = \"https://2019.ic2s2.org/oral-presentations/\"\n",
    "r = requests.get(link)\n",
    "soup = BeautifulSoup(r.content)\n",
    "\n",
    "\n",
    "pattern = r\"\\d+\\d+:\\d+\\d+.*\\.\"\n",
    "pattern_names = r\"([A-Z][a-z]+ [A-Z][a-z]+(, [A-Z][a-z]+ [A-Z][a-z]+)*\\.)\"\n",
    "times = re.findall(pattern, str(soup.find_all(\"p\")))\n",
    "names_nonprocessed = re.findall(pattern_names, str(times))\n",
    "names1 = set()\n",
    "for element in names_nonprocessed:\n",
    "    for i in element:\n",
    "        x = i.strip(\",.\").strip().split(\",\")\n",
    "        if len(x) > 1:\n",
    "            for name in x:\n",
    "                name = str(name.strip())\n",
    "                if name not in names1:\n",
    "                    names1.add(name)\n",
    "        else:\n",
    "            names1.add(x[0])\n",
    "print(len(names1))"
   ]
  },
  {
   "cell_type": "code",
   "execution_count": null,
   "metadata": {},
   "outputs": [],
   "source": []
  }
 ],
 "metadata": {
  "kernelspec": {
   "display_name": "comSocSci",
   "language": "python",
   "name": "python3"
  },
  "language_info": {
   "codemirror_mode": {
    "name": "ipython",
    "version": 3
   },
   "file_extension": ".py",
   "mimetype": "text/x-python",
   "name": "python",
   "nbconvert_exporter": "python",
   "pygments_lexer": "ipython3",
   "version": "3.10.9"
  },
  "orig_nbformat": 4,
  "vscode": {
   "interpreter": {
    "hash": "a081079ee5b07d416a411aa15740ce1fe1934fc3e84841114a520aad35961001"
   }
  }
 },
 "nbformat": 4,
 "nbformat_minor": 2
}
