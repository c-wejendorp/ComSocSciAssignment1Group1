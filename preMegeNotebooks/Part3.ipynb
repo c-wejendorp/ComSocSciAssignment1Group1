{
 "cells": [
  {
   "attachments": {},
   "cell_type": "markdown",
   "metadata": {},
   "source": [
    "# Exercise 3: Law of large numbers\n",
    "## Normal distribution"
   ]
  },
  {
   "cell_type": "code",
   "execution_count": null,
   "metadata": {},
   "outputs": [],
   "source": [
    "import numpy as np\n",
    "import pandas as pd\n",
    "import matplotlib.pyplot as plt\n",
    "import pickle\n",
    "import random\n",
    "np.random.seed(69)\n",
    "random.seed(69)"
   ]
  },
  {
   "cell_type": "code",
   "execution_count": null,
   "metadata": {},
   "outputs": [],
   "source": [
    "num_samples = 10_000\n",
    "\n",
    "X = np.arange(0, num_samples) # ranges used for plotting\n",
    "X_ = np.arange(1, num_samples+1, 1_000)\n",
    "\n",
    "def analyze_sample(Y):  \n",
    "    \"\"\"Returns all relevant stats for a sample Y.\"\"\"\n",
    "    n = len(Y)\n",
    "  \n",
    "    # 3-4) Cumulative average and standard error\n",
    "    cum_avg = [np.mean(Y[:i]) for i in range(1, n+1)]\n",
    "    cum_SE = [np.std(Y[:i]) / np.sqrt(i) for i in range(1, n+1)]\n",
    "\n",
    "    # 5) mean and median\n",
    "    mean, median = np.mean(Y), np.median(Y)\n",
    "    \n",
    "    # 7) Cumulative median\n",
    "    cum_med = [np.median(Y[:i]) for i in range(1, n+1)]\n",
    "\n",
    "    return cum_avg, cum_SE, cum_med, mean, median"
   ]
  },
  {
   "cell_type": "code",
   "execution_count": null,
   "metadata": {},
   "outputs": [],
   "source": [
    "# 1) Gaussian sampling\n",
    "mu, sigma = 0, 4\n",
    "Y = np.random.standard_normal(num_samples) * sigma + mu\n",
    "cum_avg, cum_SE, cum_med, mean, median = analyze_sample(Y)\n",
    "\n",
    "# 2) Plot distribution\n",
    "plt.hist(Y, bins=100, density=True)\n",
    "plt.title('Gaussian distribution')\n",
    "plt.show()\n",
    "\n",
    "# 6) Plot cumulative average and standard error\n",
    "plt.title('Cumulative Average of Gaussian Distribution')\n",
    "plt.xlabel('Sample Size'); plt.ylabel('Average')\n",
    "# X = np.arange(0, num_samples)\n",
    "plt.plot(X, cum_avg, label='Cumulative average')\n",
    "\n",
    "# X_ = np.arange(1, num_samples+1, 1_000)  # Error bar - Only plot every 1000th point for ease of viewing\n",
    "cum_avg = [cum_avg[x] for x in X_]\n",
    "cum_SE = [cum_SE[x] for x in X_]\n",
    "plt.errorbar(X_, cum_avg, yerr=cum_SE, fmt='o', capsize=3, label='Standard error')\n",
    "plt.axhline(mean, color='r', label='Mean')\n",
    "plt.legend()\n",
    "plt.show()\n",
    "\n",
    "# 8) Plot cumulative median and distribution median\n",
    "plt.title('Cumulative Median of Gaussian Distribution')\n",
    "plt.xlabel('Sample Size'); plt.ylabel('Median')\n",
    "plt.plot(X, cum_med, label='Cumulative median')\n",
    "plt.axhline(median, color='r', label='Mean')\n",
    "plt.legend()\n",
    "plt.show()"
   ]
  },
  {
   "attachments": {},
   "cell_type": "markdown",
   "metadata": {},
   "source": [
    "## Pareto distribution"
   ]
  },
  {
   "cell_type": "code",
   "execution_count": null,
   "metadata": {},
   "outputs": [],
   "source": [
    "# 9) Pareto sampling\n",
    "x_m = 1 # scale x_m/m parameter\n",
    "alpha = 0.5 # shape alpha/a parameter\n",
    "Y = (np.random.pareto(alpha, num_samples) + 1) * x_m\n",
    "cum_avg, cum_SE, cum_med, mean, median = analyze_sample(Y)\n",
    "\n",
    "# 2) Plot distribution\n",
    "plt.hist(Y, bins=np.arange(0, 30, 1), density=True)\n",
    "plt.title('Pareto distribution')\n",
    "plt.show()\n",
    "\n",
    "# 6) Plot cumulative average\n",
    "plt.title('Cumulative Average of Pareto Distribution')\n",
    "plt.xlabel('Sample Size'); plt.ylabel('Average')\n",
    "plt.plot(X, cum_avg, label='Cumulative average')  # LEARNING MOMENT max(cum_avg) return 300000, which afterwards drops towards zero\n",
    "\n",
    "cum_avg = [cum_avg[x] for x in X_]  # Error bars\n",
    "cum_SE = [cum_SE[x] for x in X_]\n",
    "plt.errorbar(X_, cum_avg, yerr=cum_SE, fmt='o', capsize=3, label='Standard error')\n",
    "plt.axhline(mean, color='r', label='Mean')\n",
    "plt.legend()\n",
    "plt.show()\n",
    "\n",
    "# 7) Plot cumulative median\n",
    "plt.title('Cumulative Median of Pareto Distribution')\n",
    "plt.xlabel('Sample Size'); plt.ylabel('Median')\n",
    "plt.plot(X, cum_med, label='Cumulative median')\n",
    "plt.axhline(median, color='r', label='Mean')\n",
    "plt.legend()\n",
    "plt.show()"
   ]
  },
  {
   "attachments": {},
   "cell_type": "markdown",
   "metadata": {},
   "source": [
    "## Lognormal Distribution"
   ]
  },
  {
   "cell_type": "code",
   "execution_count": null,
   "metadata": {},
   "outputs": [],
   "source": [
    "# 11) Pareto sampling by inverse transform sampling of uniform distribution\n",
    "mu = 0 \n",
    "sigma = 4 \n",
    "Y = np.exp(np.random.standard_normal(num_samples) * sigma + mu)\n",
    "cum_avg, cum_SE, cum_med, mean, median = analyze_sample(Y)\n",
    "\n",
    "# 2) Plot distribution\n",
    "plt.hist(Y, bins=np.arange(0, 30, 1), density=True)\n",
    "plt.title('Lognormal distribution')\n",
    "plt.show()\n",
    "\n",
    "# 6) Plot cumulative average\n",
    "plt.title('Cumulative Average of Lognormal Distribution')\n",
    "plt.xlabel('Sample Size'); plt.ylabel('Average')\n",
    "plt.plot(X, cum_avg, label='Cumulative average')\n",
    "\n",
    "cum_avg = [cum_avg[x] for x in X_]  # Error bars\n",
    "cum_SE = [cum_SE[x] for x in X_]\n",
    "plt.errorbar(X_, cum_avg, yerr=cum_SE, fmt='o', capsize=3, label='Standard error')\n",
    "plt.axhline(mean, color='r', label='Mean')\n",
    "plt.legend()\n",
    "plt.show()\n",
    "\n",
    "# 7) Plot cumulative median\n",
    "plt.title('Cumulative Median of Lognormal Distribution')\n",
    "plt.xlabel('Sample Size'); plt.ylabel('Median')\n",
    "plt.plot(X, cum_med, label='Cumulative median')\n",
    "plt.axhline(median, color='r', label='Mean')\n",
    "plt.legend()\n",
    "plt.show()"
   ]
  },
  {
   "attachments": {},
   "cell_type": "markdown",
   "metadata": {},
   "source": [
    "## Citations from 2019"
   ]
  },
  {
   "cell_type": "code",
   "execution_count": null,
   "metadata": {},
   "outputs": [],
   "source": [
    "import pickle, pandas as pd\n",
    "\n",
    "data = pd.read_pickle(r'C:\\Users\\Jason\\Downloads\\paperDataSet.pkl')\n",
    "citation_count = list(data['papersCitationCount'].values)"
   ]
  },
  {
   "cell_type": "code",
   "execution_count": null,
   "metadata": {},
   "outputs": [],
   "source": [
    "Y = random.sample(citation_count, num_samples)\n",
    "cum_avg, cum_SE, cum_med, mean, median = analyze_sample(Y)\n",
    "\n",
    "# 2) Plot distribution\n",
    "plt.hist(Y, bins=np.arange(0, 30, 1), density=True)\n",
    "plt.title('Citation distribution')\n",
    "plt.show()\n",
    "\n",
    "# 6) Plot cumulative average\n",
    "plt.title('Cumulative Average of Citation Distribution')\n",
    "plt.xlabel('Sample Size'); plt.ylabel('Average')\n",
    "plt.plot(X, cum_avg, label='Cumulative average')\n",
    "\n",
    "cum_avg = [cum_avg[x] for x in X_]  # Error bars\n",
    "cum_SE = [cum_SE[x] for x in X_]\n",
    "plt.errorbar(X_, cum_avg, yerr=cum_SE, fmt='o', capsize=3, label='Standard error')\n",
    "plt.axhline(mean, color='r', label='Mean')\n",
    "plt.legend()\n",
    "plt.show()\n",
    "\n",
    "# 7) Plot cumulative median\n",
    "plt.title('Cumulative Median of Citation Distribution')\n",
    "plt.xlabel('Sample Size'); plt.ylabel('Median')\n",
    "plt.plot(X, cum_med, label='Cumulative median')\n",
    "plt.axhline(median, color='r', label='Mean')\n",
    "plt.legend()\n",
    "plt.show()"
   ]
  },
  {
   "attachments": {},
   "cell_type": "markdown",
   "metadata": {},
   "source": [
    "Compare the evolution of the cumulative average for the Gaussian, Pareto and LogNormal distribution. What do you observe? Would you expect these results? Why?\n",
    "- Gaussian is not heavy tailed, so follows the Law of Large Numbers. Pareto has crazy outliers, due to the 80/20 rule of which it was defined from. It is defined to be heavy tailed. Thus a single outlier can have a huge impact on the cumulative mean. The same applies to Lognormal, as plots behave similar. This could be due to the exponential increasing the impact of outliers.\n",
    "\n",
    "Compare the cumulative median vs the cumulative average for the three distributions. What do you observe? Can you draw any conclusions regarding which statistics (the mean or the median) is more usfeul in the different cases?\n",
    "- In general median is more robust to outliers. Thus, median is most usefull in heavy tailed distributions. \n",
    "\n",
    "Consider the plots you made using the citation count data in point 14. What do you observe? What are the implications?\n",
    "- The distribution is heavy tailed, and thus the mean is not a good representation of the data. The median is more usefull.\n",
    "\n",
    "What do you think are the main take-home message of this exercise?\n",
    "- Papers citations are apparently heavy tailed. Heavy tailed distributions are not well represented by the mean, and thus median is more usefull. "
   ]
  }
 ],
 "metadata": {
  "kernelspec": {
   "display_name": "comSocSci",
   "language": "python",
   "name": "python3"
  },
  "language_info": {
   "codemirror_mode": {
    "name": "ipython",
    "version": 3
   },
   "file_extension": ".py",
   "mimetype": "text/x-python",
   "name": "python",
   "nbconvert_exporter": "python",
   "pygments_lexer": "ipython3",
   "version": "3.10.9"
  },
  "orig_nbformat": 4,
  "vscode": {
   "interpreter": {
    "hash": "a081079ee5b07d416a411aa15740ce1fe1934fc3e84841114a520aad35961001"
   }
  }
 },
 "nbformat": 4,
 "nbformat_minor": 2
}
