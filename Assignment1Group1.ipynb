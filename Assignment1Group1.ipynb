{
 "cells": [
  {
   "attachments": {},
   "cell_type": "markdown",
   "metadata": {},
   "source": [
    "# Exercise 1: Visualization vs stats"
   ]
  },
  {
   "cell_type": "code",
   "execution_count": 25,
   "metadata": {},
   "outputs": [],
   "source": [
    "import numpy as np\n",
    "from scipy.stats import pearsonr, linregress\n",
    "import matplotlib.pyplot as plt"
   ]
  },
  {
   "cell_type": "code",
   "execution_count": 26,
   "metadata": {},
   "outputs": [
    {
     "name": "stdout",
     "output_type": "stream",
     "text": [
      "Means\n",
      "0) x: 9.00, y: 7.50\n",
      "1) x: 9.00, y: 7.50\n",
      "2) x: 9.00, y: 7.50\n",
      "3) x: 9.00, y: 7.50\n",
      "\n",
      "Variances\n",
      "0) x: 10.00, y: 3.75\n",
      "1) x: 10.00, y: 3.75\n",
      "2) x: 10.00, y: 3.75\n",
      "3) x: 10.00, y: 3.75\n",
      "\n",
      "Pearson correlation coefficients\n",
      "0) 0.82\n",
      "1) 0.82\n",
      "2) 0.82\n",
      "3) 0.82\n",
      "\n",
      "Linear regression f(x) = ax+b\n",
      "0) a: 0.50, b: 3.00\n",
      "1) a: 0.50, b: 3.00\n",
      "2) a: 0.50, b: 3.00\n",
      "3) a: 0.50, b: 3.00\n"
     ]
    },
    {
     "data": {
      "image/png": "[encoded data removed]",
      "text/plain": [
       "<Figure size 576x576 with 4 Axes>"
      ]
     },
     "metadata": {
      "needs_background": "light"
     },
     "output_type": "display_data"
    }
   ],
   "source": [
    "# load data\n",
    "paths = ['Data1.tsv', 'Data2.tsv', 'Data3.tsv', 'Data4.tsv']\n",
    "datas = [np.loadtxt(path, delimiter='\\t') for path in paths]\n",
    "\n",
    "# Calculate means of x and y values for each dataset\n",
    "means = [np.mean(data, axis=0) for data in datas]\n",
    "print(\"Means\")\n",
    "[print('{}) x: {:.2f}, y: {:.2f}'.format(i, *mean)) for i, mean in enumerate(means)]\n",
    "\n",
    "# Calculate variances of x and y values for each dataset\n",
    "vars = [np.var(data, axis=0) for data in datas]\n",
    "print(\"\\nVariances\")\n",
    "[print('{}) x: {:.2f}, y: {:.2f}'.format(i, *var)) for i, var in enumerate(vars)]\n",
    "\n",
    "# Calculate Pearson correlation coefficients for each dataset\n",
    "corrs = [pearsonr(data[:, 0], data[:, 1]) for data in datas]\n",
    "print(\"\\nPearson correlation coefficients\")\n",
    "[print('{}) {:.2f}'.format(i, corr[0])) for i, corr in enumerate(corrs)]\n",
    "\n",
    "# Calculate linear regression coefficients for each dataset\n",
    "data = datas[0]\n",
    "regress = [linregress(data[:, 0], data[:, 1]) for data in datas]\n",
    "print(\"\\nLinear regression f(x) = ax+b\")\n",
    "[print('{}) a: {:.2f}, b: {:.2f}'.format(i, reg.slope, reg.intercept)) for i, reg in enumerate(regress)]\n",
    "\n",
    "\n",
    "# set up the 2x2 subplot\n",
    "fig, axs = plt.subplots(2, 2, figsize=(8, 8))\n",
    "X = np.linspace(2, 17, 100)\n",
    "\n",
    "# plot each dataset and its linear fit\n",
    "for i, ax in enumerate(axs.flatten()):\n",
    "    data = datas[i]\n",
    "    x, y = data[:, 0], data[:, 1]\n",
    "\n",
    "    # fit a straight line through the data¨\n",
    "    slope, intercept = regress[i].slope, regress[i].intercept\n",
    "\n",
    "    # plot the data and the linear fit on the appropriate subplot\n",
    "    ax.plot(x, y, 'o', label='Data')\n",
    "    ax.plot(X, slope*X + intercept, 'r')\n",
    "    ax.set_xlim(0, 20)\n",
    "    ax.set_ylim(0, 14)\n",
    "\n",
    "plt.show()\n"
   ]
  },
  {
   "attachments": {},
   "cell_type": "markdown",
   "metadata": {},
   "source": [
    "## The point\n",
    "Representations matter! Using general statistics to make broad properties of data can be usefull, but sometime the data can trick us. In this exercise 4 completely different distributed data produces identical statistics. Using visualizations we can easily see there are some some outlier issues along with fitting with the incorrect model. "
   ]
  },
  {
   "attachments": {},
   "cell_type": "markdown",
   "metadata": {},
   "source": [
    "# Exercise 2: Paper citations"
   ]
  },
  {
   "cell_type": "code",
   "execution_count": 27,
   "metadata": {},
   "outputs": [],
   "source": [
    "## Exercise 2: Paper citations\n",
    "# HELP ME KRISTOFFER"
   ]
  },
  {
   "attachments": {},
   "cell_type": "markdown",
   "metadata": {},
   "source": [
    "# Exercise 3: Law of large numbers\n",
    "## Normal distribution"
   ]
  },
  {
   "cell_type": "code",
   "execution_count": 85,
   "metadata": {},
   "outputs": [],
   "source": [
    "def analyze_sample(Y):  # Get all relevant statistics (don't plot here)\n",
    "    n = len(Y)\n",
    "  \n",
    "    # 3-4) Cumulative average and standard error\n",
    "\n",
    "    cum_avg = [np.mean(Y[:i]) for i in range(1, n+1)]\n",
    "    cum_SE = [np.std(Y[:i]) / np.sqrt(i) for i in range(1, n+1)]\n",
    "\n",
    "    # 5) mean and median\n",
    "    mean, median = np.mean(Y), np.median(Y)\n",
    "    print(\"Mean: {:.2f}, Median: {:.2f}\".format(mean, median))\n",
    "    \n",
    "    # 7) Cumulative median\n",
    "    cum_med = [np.median(Y[:i]) for i in range(1, n+1)]\n",
    "\n",
    "    return cum_avg, cum_SE, cum_med, mean, median\n",
    "\n",
    "\n"
   ]
  },
  {
   "cell_type": "code",
   "execution_count": 74,
   "metadata": {},
   "outputs": [
    {
     "name": "stdout",
     "output_type": "stream",
     "text": [
      "0 1000\n",
      "[   0  100  200  300  400  500  600  700  800  900 1000]\n"
     ]
    }
   ],
   "source": [
    "X = np.arange(0, 1001, 100)\n",
    "print(X[0], X[-1])\n",
    "print(X)\n"
   ]
  },
  {
   "cell_type": "code",
   "execution_count": 82,
   "metadata": {},
   "outputs": [
    {
     "name": "stdout",
     "output_type": "stream",
     "text": [
      "Mean: -0.04, Median: -0.05\n"
     ]
    },
    {
     "data": {
      "image/png": "[encoded data removed]",
      "text/plain": [
       "<Figure size 432x288 with 1 Axes>"
      ]
     },
     "metadata": {
      "needs_background": "light"
     },
     "output_type": "display_data"
    }
   ],
   "source": [
    "np.random.seed(69)\n",
    "\n",
    "# 1) Gaussian sampling\n",
    "n = 10_000\n",
    "mu, sigma = 0, 4\n",
    "Y = np.random.standard_normal(n) * sigma + mu\n",
    "\n",
    "# 2) Plot distribution\n",
    "# plt.hist(Y, bins=100, density=True)\n",
    "# plt.title('Gaussian distribution')\n",
    "# plt.show()\n",
    "\n",
    "cum_avg, cum_SE, cum_med, mean, median = analyze_sample(Y)\n",
    "# X = np.arange(0, n)\n",
    "# plt.plot(X, cum_avg, label='Cumulative average')\n",
    "\n",
    "# X = np.arange(1, n+1, 1_000)\n",
    "\n",
    "# cum_avg = [cum_avg[x] for x in X]\n",
    "# cum_SE = [cum_SE[x] for x in X]\n",
    "# plt.errorbar(X, cum_avg, yerr=cum_SE, fmt='o', capsize=3)\n",
    "# plt.axhline(mean, color='r', label='Mean')\n",
    "# plt.show()\n",
    "\n",
    "# 7) Cumulative median\n",
    "cum_med = [np.median(Y[:i]) for i in range(1, n+1)]\n",
    "\n",
    "# 8) Plot stuff\n",
    "X = np.arange(0, n)\n",
    "plt.plot(X, cum_med, label='Cumulative median')\n",
    "plt.axhline(median, color='r', label='Mean')\n",
    "plt.show()\n"
   ]
  },
  {
   "attachments": {},
   "cell_type": "markdown",
   "metadata": {},
   "source": [
    "## Pareto distribution"
   ]
  },
  {
   "cell_type": "code",
   "execution_count": 87,
   "metadata": {},
   "outputs": [
    {
     "data": {
      "image/png": "[encoded data removed]",
      "text/plain": [
       "<Figure size 432x288 with 1 Axes>"
      ]
     },
     "metadata": {
      "needs_background": "light"
     },
     "output_type": "display_data"
    },
    {
     "data": {
      "text/plain": [
       "[<matplotlib.lines.Line2D at 0x1fec086f7f0>]"
      ]
     },
     "execution_count": 87,
     "metadata": {},
     "output_type": "execute_result"
    },
    {
     "data": {
      "image/png": "[encoded data removed]",
      "text/plain": [
       "<Figure size 432x288 with 1 Axes>"
      ]
     },
     "metadata": {
      "needs_background": "light"
     },
     "output_type": "display_data"
    }
   ],
   "source": [
    "np.random.seed(69)\n",
    "\n",
    "# 9) Pareto sampling\n",
    "x_m = 1 # scale x_m/m parameter\n",
    "alpha = 0.5 # shape alpha/a parameter\n",
    "Y = (np.random.pareto(alpha, n) + 1) * x_m\n",
    "\n",
    "# 2) Plot distribution\n",
    "plt.hist(Y, bins=np.arange(0, 30, 1), density=True)\n",
    "plt.show()\n",
    "\n",
    "# cum_avg, cum_SE, cum_med, mean, median = analyze_sample(Y)\n",
    "plt.plot(X, cum_avg, label='Cumulative average')  # LEARNING MOMENT max(cum_avg) return 300000, which afterwards drops towards zero\n"
   ]
  },
  {
   "cell_type": "code",
   "execution_count": 90,
   "metadata": {},
   "outputs": [
    {
     "data": {
      "text/plain": [
       "2896"
      ]
     },
     "execution_count": 90,
     "metadata": {},
     "output_type": "execute_result"
    }
   ],
   "source": [
    "cum_avg.find(max(cum_avg))"
   ]
  },
  {
   "attachments": {},
   "cell_type": "markdown",
   "metadata": {},
   "source": [
    "## Lognormal Distribution"
   ]
  },
  {
   "cell_type": "code",
   "execution_count": 53,
   "metadata": {},
   "outputs": [
    {
     "data": {
      "image/png": "[encoded data removed]",
      "text/plain": [
       "<Figure size 432x288 with 1 Axes>"
      ]
     },
     "metadata": {
      "needs_background": "light"
     },
     "output_type": "display_data"
    },
    {
     "name": "stdout",
     "output_type": "stream",
     "text": [
      "Mean: 1363.87, Median: 0.96\n"
     ]
    },
    {
     "data": {
      "image/png": "[encoded data removed]",
      "text/plain": [
       "<Figure size 432x288 with 1 Axes>"
      ]
     },
     "metadata": {
      "needs_background": "light"
     },
     "output_type": "display_data"
    },
    {
     "data": {
      "image/png": "[encoded data removed]",
      "text/plain": [
       "<Figure size 432x288 with 1 Axes>"
      ]
     },
     "metadata": {
      "needs_background": "light"
     },
     "output_type": "display_data"
    }
   ],
   "source": [
    "np.random.seed(69)\n",
    "\n",
    "# 11) Pareto sampling by inverse transform sampling of uniform distribution\n",
    "mu = 0 \n",
    "sigma = 4 \n",
    "Y = np.exp(np.random.standard_normal(n) * sigma + mu)\n",
    "\n",
    "# 2) Plot distribution\n",
    "plt.hist(Y, bins=np.arange(0, 30, 1), density=True)\n",
    "plt.show()\n",
    "\n",
    "# Inverse transform sampling\n",
    "analyze_sample(Y)"
   ]
  },
  {
   "attachments": {},
   "cell_type": "markdown",
   "metadata": {},
   "source": [
    "## Citations from 2019"
   ]
  },
  {
   "cell_type": "code",
   "execution_count": 94,
   "metadata": {},
   "outputs": [],
   "source": [
    "import pickle, pandas as pd\n",
    "data = pd.read_pickle(r'C:\\Users\\Jason\\Downloads\\paperDataSet.pkl')\n"
   ]
  },
  {
   "cell_type": "code",
   "execution_count": 97,
   "metadata": {},
   "outputs": [],
   "source": [
    "data.columns\n",
    "Y = np.array(data['papersCitationCount'])"
   ]
  },
  {
   "cell_type": "code",
   "execution_count": 101,
   "metadata": {},
   "outputs": [
    {
     "name": "stdout",
     "output_type": "stream",
     "text": [
      "34.62355033802124 4.0\n"
     ]
    },
    {
     "data": {
      "image/png": "[encoded data removed]",
      "text/plain": [
       "<Figure size 432x288 with 1 Axes>"
      ]
     },
     "metadata": {
      "needs_background": "light"
     },
     "output_type": "display_data"
    }
   ],
   "source": [
    "mean, median = np.mean(Y), np.median(Y)\n",
    "print(mean, median)\n",
    "\n",
    "# Sample 10_000 papers\n",
    "Y = np.random.choice(Y, 10_000)\n",
    "\n",
    "# cum_avg, cum_SE, cum_med, mean, median = analyze_sample(Y)\n",
    "\n",
    "# # 2) Plot distribution\n",
    "plt.hist(Y, bins=np.arange(0, 30, 1), density=True)\n",
    "plt.show()\n"
   ]
  },
  {
   "attachments": {},
   "cell_type": "markdown",
   "metadata": {},
   "source": [
    "Compare the evolution of the cumulative average for the Gaussian, Pareto and LogNormal distribution. What do you observe? Would you expect these results? Why?\n",
    "- Normal central limit theorem, Pareto has crazy outliers, \n",
    "\n",
    "Compare the cumulative median vs the cumulative average for the three distributions. What do you observe? Can you draw any conclusions regarding which statistics (the mean or the median) is more usfeul in the different cases?\n",
    "- In general median is more robust to outliers. Thus, median is most usefull in heavy tailed distributions. \n",
    "Consider the plots you made using the citation count data in point 14. What do you observe? What are the implications?\n",
    "\n",
    "What do you think are the main take-home message of this exercise?\n",
    "- Papers citations are apparently heavy tailed. Heavy tailed distributions are not well represented by the mean, and thus median is more usefull. "
   ]
  },
  {
   "attachments": {},
   "cell_type": "markdown",
   "metadata": {},
   "source": [
    "# ChatGPT"
   ]
  },
  {
   "cell_type": "code",
   "execution_count": 31,
   "metadata": {},
   "outputs": [
    {
     "data": {
      "image/png": "[encoded data removed]",
      "text/plain": [
       "<Figure size 432x288 with 1 Axes>"
      ]
     },
     "metadata": {
      "needs_background": "light"
     },
     "output_type": "display_data"
    }
   ],
   "source": [
    "import matplotlib.pyplot as plt\n",
    "import numpy as np\n",
    "\n",
    "# Generate some sample data\n",
    "x = np.array([1, 2, 3, 4, 5])\n",
    "y = np.array([1.2, 1.5, 1.3, 1.8, 1.6])\n",
    "yerr = np.array([0.1, 0.2, 0.15, 0.25, 0.2])  # error bars\n",
    "\n",
    "# Plot the data with error bars\n",
    "plt.errorbar(x, y, yerr=yerr, fmt='o', capsize=3)\n",
    "\n",
    "# Add labels and title\n",
    "plt.xlabel('X')\n",
    "plt.ylabel('Y')\n",
    "plt.title('Plot with Error Bars')\n",
    "\n",
    "# Show the plot\n",
    "plt.show()\n"
   ]
  }
 ],
 "metadata": {
  "kernelspec": {
   "display_name": "Python 3",
   "language": "python",
   "name": "python3"
  },
  "language_info": {
   "codemirror_mode": {
    "name": "ipython",
    "version": 3
   },
   "file_extension": ".py",
   "mimetype": "text/x-python",
   "name": "python",
   "nbconvert_exporter": "python",
   "pygments_lexer": "ipython3",
   "version": "3.8.12"
  },
  "orig_nbformat": 4,
  "vscode": {
   "interpreter": {
    "hash": "9b0b65194b4033a0f8e5d05f554763c2d77183e05d20549ea8ad6fd0faab2e17"
   }
  }
 },
 "nbformat": 4,
 "nbformat_minor": 2
}
